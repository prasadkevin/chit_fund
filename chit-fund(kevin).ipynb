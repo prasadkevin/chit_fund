{
 "cells": [
  {
   "cell_type": "markdown",
   "metadata": {
    "_uuid": "cb370421f24004db15e7c5054b84d92292a243b6"
   },
   "source": [
    "# kaleidofin\n",
    "##  Task : \n",
    "\t•\tWhat is the Annualized  Return of the person who bids in the last month ? \n",
    "\t•\tWhat is the Annualized Return of the person who bids in the first month ?\n",
    "\t"
   ]
  },
  {
   "cell_type": "markdown",
   "metadata": {
    "_uuid": "ebee5cbd36b71b21d93167d3e06e022a102d9735"
   },
   "source": [
    "### Importing Data and Pandas library"
   ]
  },
  {
   "cell_type": "code",
   "execution_count": 31,
   "metadata": {
    "_uuid": "f8fdc9f88312985ae863b6b8ca921ceff3251ba5"
   },
   "outputs": [
    {
     "data": {
      "text/html": [
       "<div>\n",
       "<style scoped>\n",
       "    .dataframe tbody tr th:only-of-type {\n",
       "        vertical-align: middle;\n",
       "    }\n",
       "\n",
       "    .dataframe tbody tr th {\n",
       "        vertical-align: top;\n",
       "    }\n",
       "\n",
       "    .dataframe thead th {\n",
       "        text-align: right;\n",
       "    }\n",
       "</style>\n",
       "<table border=\"1\" class=\"dataframe\">\n",
       "  <thead>\n",
       "    <tr style=\"text-align: right;\">\n",
       "      <th></th>\n",
       "      <th>Month</th>\n",
       "      <th>Contribution</th>\n",
       "      <th>Amount won by the bidder</th>\n",
       "      <th>Chit fund organizer commission</th>\n",
       "      <th>Net amount recd by Bid winner</th>\n",
       "      <th>Amount returned to everyone in the group</th>\n",
       "    </tr>\n",
       "  </thead>\n",
       "  <tbody>\n",
       "    <tr>\n",
       "      <td>0</td>\n",
       "      <td>1</td>\n",
       "      <td>2000</td>\n",
       "      <td>40000</td>\n",
       "      <td>2500</td>\n",
       "      <td>37500</td>\n",
       "      <td>400</td>\n",
       "    </tr>\n",
       "    <tr>\n",
       "      <td>1</td>\n",
       "      <td>2</td>\n",
       "      <td>2000</td>\n",
       "      <td>42000</td>\n",
       "      <td>2500</td>\n",
       "      <td>39500</td>\n",
       "      <td>320</td>\n",
       "    </tr>\n",
       "    <tr>\n",
       "      <td>2</td>\n",
       "      <td>3</td>\n",
       "      <td>2000</td>\n",
       "      <td>45000</td>\n",
       "      <td>2500</td>\n",
       "      <td>42500</td>\n",
       "      <td>200</td>\n",
       "    </tr>\n",
       "    <tr>\n",
       "      <td>3</td>\n",
       "      <td>4</td>\n",
       "      <td>2000</td>\n",
       "      <td>48000</td>\n",
       "      <td>2500</td>\n",
       "      <td>45500</td>\n",
       "      <td>80</td>\n",
       "    </tr>\n",
       "    <tr>\n",
       "      <td>4</td>\n",
       "      <td>5</td>\n",
       "      <td>2000</td>\n",
       "      <td>40000</td>\n",
       "      <td>2500</td>\n",
       "      <td>37500</td>\n",
       "      <td>400</td>\n",
       "    </tr>\n",
       "  </tbody>\n",
       "</table>\n",
       "</div>"
      ],
      "text/plain": [
       "   Month  Contribution  Amount won by the bidder  \\\n",
       "0      1          2000                     40000   \n",
       "1      2          2000                     42000   \n",
       "2      3          2000                     45000   \n",
       "3      4          2000                     48000   \n",
       "4      5          2000                     40000   \n",
       "\n",
       "   Chit fund organizer commission  Net amount recd by Bid winner  \\\n",
       "0                            2500                          37500   \n",
       "1                            2500                          39500   \n",
       "2                            2500                          42500   \n",
       "3                            2500                          45500   \n",
       "4                            2500                          37500   \n",
       "\n",
       "   Amount returned to everyone in the group  \n",
       "0                                       400  \n",
       "1                                       320  \n",
       "2                                       200  \n",
       "3                                        80  \n",
       "4                                       400  "
      ]
     },
     "execution_count": 31,
     "metadata": {},
     "output_type": "execute_result"
    }
   ],
   "source": [
    "import pandas as pd\n",
    "data = pd.read_csv(\"/home/prasad/Desktop/Assignment_1_2/Assignment_1 2/chit fund exercise.csv\")\n",
    "data.head()"
   ]
  },
  {
   "cell_type": "code",
   "execution_count": 32,
   "metadata": {
    "_uuid": "67afa823e6032d81321a57db2c27834953531cc0"
   },
   "outputs": [
    {
     "data": {
      "text/plain": [
       "Index(['Month', 'Contribution', 'Amount won by the bidder',\n",
       "       'Chit fund organizer commission', 'Net amount recd by Bid winner',\n",
       "       'Amount returned to everyone in the group'],\n",
       "      dtype='object')"
      ]
     },
     "execution_count": 32,
     "metadata": {},
     "output_type": "execute_result"
    }
   ],
   "source": [
    "data.columns"
   ]
  },
  {
   "cell_type": "markdown",
   "metadata": {
    "_uuid": "82b2152d144d8dedd4b8495ad6b8689db5b28f41"
   },
   "source": [
    "### Calculating Actual Contribution contributed by each member of the chit fund for every month."
   ]
  },
  {
   "cell_type": "code",
   "execution_count": 33,
   "metadata": {
    "_uuid": "ebc245d5b6089b8a18ce6aab8115814662648583"
   },
   "outputs": [
    {
     "data": {
      "text/html": [
       "<div>\n",
       "<style scoped>\n",
       "    .dataframe tbody tr th:only-of-type {\n",
       "        vertical-align: middle;\n",
       "    }\n",
       "\n",
       "    .dataframe tbody tr th {\n",
       "        vertical-align: top;\n",
       "    }\n",
       "\n",
       "    .dataframe thead th {\n",
       "        text-align: right;\n",
       "    }\n",
       "</style>\n",
       "<table border=\"1\" class=\"dataframe\">\n",
       "  <thead>\n",
       "    <tr style=\"text-align: right;\">\n",
       "      <th></th>\n",
       "      <th>Month</th>\n",
       "      <th>Contribution</th>\n",
       "      <th>Amount won by the bidder</th>\n",
       "      <th>Chit fund organizer commission</th>\n",
       "      <th>Net amount recd by Bid winner</th>\n",
       "      <th>Amount returned to everyone in the group</th>\n",
       "      <th>Actual Contribution</th>\n",
       "    </tr>\n",
       "  </thead>\n",
       "  <tbody>\n",
       "    <tr>\n",
       "      <td>0</td>\n",
       "      <td>1</td>\n",
       "      <td>2000</td>\n",
       "      <td>40000</td>\n",
       "      <td>2500</td>\n",
       "      <td>37500</td>\n",
       "      <td>400</td>\n",
       "      <td>1600</td>\n",
       "    </tr>\n",
       "    <tr>\n",
       "      <td>1</td>\n",
       "      <td>2</td>\n",
       "      <td>2000</td>\n",
       "      <td>42000</td>\n",
       "      <td>2500</td>\n",
       "      <td>39500</td>\n",
       "      <td>320</td>\n",
       "      <td>1680</td>\n",
       "    </tr>\n",
       "    <tr>\n",
       "      <td>2</td>\n",
       "      <td>3</td>\n",
       "      <td>2000</td>\n",
       "      <td>45000</td>\n",
       "      <td>2500</td>\n",
       "      <td>42500</td>\n",
       "      <td>200</td>\n",
       "      <td>1800</td>\n",
       "    </tr>\n",
       "    <tr>\n",
       "      <td>3</td>\n",
       "      <td>4</td>\n",
       "      <td>2000</td>\n",
       "      <td>48000</td>\n",
       "      <td>2500</td>\n",
       "      <td>45500</td>\n",
       "      <td>80</td>\n",
       "      <td>1920</td>\n",
       "    </tr>\n",
       "    <tr>\n",
       "      <td>4</td>\n",
       "      <td>5</td>\n",
       "      <td>2000</td>\n",
       "      <td>40000</td>\n",
       "      <td>2500</td>\n",
       "      <td>37500</td>\n",
       "      <td>400</td>\n",
       "      <td>1600</td>\n",
       "    </tr>\n",
       "  </tbody>\n",
       "</table>\n",
       "</div>"
      ],
      "text/plain": [
       "   Month  Contribution  Amount won by the bidder  \\\n",
       "0      1          2000                     40000   \n",
       "1      2          2000                     42000   \n",
       "2      3          2000                     45000   \n",
       "3      4          2000                     48000   \n",
       "4      5          2000                     40000   \n",
       "\n",
       "   Chit fund organizer commission  Net amount recd by Bid winner  \\\n",
       "0                            2500                          37500   \n",
       "1                            2500                          39500   \n",
       "2                            2500                          42500   \n",
       "3                            2500                          45500   \n",
       "4                            2500                          37500   \n",
       "\n",
       "   Amount returned to everyone in the group  Actual Contribution  \n",
       "0                                       400                 1600  \n",
       "1                                       320                 1680  \n",
       "2                                       200                 1800  \n",
       "3                                        80                 1920  \n",
       "4                                       400                 1600  "
      ]
     },
     "execution_count": 33,
     "metadata": {},
     "output_type": "execute_result"
    }
   ],
   "source": [
    "data[\"Actual Contribution\"] = data[\"Contribution\"] - data[\"Amount returned to everyone in the group\"]\n",
    "data.head()"
   ]
  },
  {
   "cell_type": "markdown",
   "metadata": {
    "_uuid": "4b0f1c284337bb73f57d4d065e4a4101c6f8612e"
   },
   "source": [
    "### Calculating Total Contribution contributed by each member of the chit fund throughout 25 months. <br>\n",
    "### Total amount contributed by each member = Sum of (Contribution of every month(2000) - Amount returned) for 25 months"
   ]
  },
  {
   "cell_type": "code",
   "execution_count": 34,
   "metadata": {
    "_uuid": "ea8e97829f431cbe662eabaf7e1df016521fdfc4"
   },
   "outputs": [
    {
     "data": {
      "text/plain": [
       "43800"
      ]
     },
     "execution_count": 34,
     "metadata": {},
     "output_type": "execute_result"
    }
   ],
   "source": [
    "total = data[\"Actual Contribution\"].sum()\n",
    "total"
   ]
  },
  {
   "cell_type": "markdown",
   "metadata": {
    "_uuid": "25a8381d8ccad60badebf64ff310eff726b7770d"
   },
   "source": [
    "### Calculating Return/Net Profit obtained by the Bid Winners for every month <br>\n",
    "### Return =  Net amount received by a participant - total amount contributed by a participant"
   ]
  },
  {
   "cell_type": "code",
   "execution_count": 35,
   "metadata": {
    "_uuid": "ed06e0865bd78fc9448efdd16f79ac341398fd88"
   },
   "outputs": [
    {
     "data": {
      "text/html": [
       "<div>\n",
       "<style scoped>\n",
       "    .dataframe tbody tr th:only-of-type {\n",
       "        vertical-align: middle;\n",
       "    }\n",
       "\n",
       "    .dataframe tbody tr th {\n",
       "        vertical-align: top;\n",
       "    }\n",
       "\n",
       "    .dataframe thead th {\n",
       "        text-align: right;\n",
       "    }\n",
       "</style>\n",
       "<table border=\"1\" class=\"dataframe\">\n",
       "  <thead>\n",
       "    <tr style=\"text-align: right;\">\n",
       "      <th></th>\n",
       "      <th>Month</th>\n",
       "      <th>Contribution</th>\n",
       "      <th>Amount won by the bidder</th>\n",
       "      <th>Chit fund organizer commission</th>\n",
       "      <th>Net amount recd by Bid winner</th>\n",
       "      <th>Amount returned to everyone in the group</th>\n",
       "      <th>Actual Contribution</th>\n",
       "      <th>return</th>\n",
       "    </tr>\n",
       "  </thead>\n",
       "  <tbody>\n",
       "    <tr>\n",
       "      <td>0</td>\n",
       "      <td>1</td>\n",
       "      <td>2000</td>\n",
       "      <td>40000</td>\n",
       "      <td>2500</td>\n",
       "      <td>37500</td>\n",
       "      <td>400</td>\n",
       "      <td>1600</td>\n",
       "      <td>-6300</td>\n",
       "    </tr>\n",
       "    <tr>\n",
       "      <td>1</td>\n",
       "      <td>2</td>\n",
       "      <td>2000</td>\n",
       "      <td>42000</td>\n",
       "      <td>2500</td>\n",
       "      <td>39500</td>\n",
       "      <td>320</td>\n",
       "      <td>1680</td>\n",
       "      <td>-4300</td>\n",
       "    </tr>\n",
       "    <tr>\n",
       "      <td>2</td>\n",
       "      <td>3</td>\n",
       "      <td>2000</td>\n",
       "      <td>45000</td>\n",
       "      <td>2500</td>\n",
       "      <td>42500</td>\n",
       "      <td>200</td>\n",
       "      <td>1800</td>\n",
       "      <td>-1300</td>\n",
       "    </tr>\n",
       "    <tr>\n",
       "      <td>3</td>\n",
       "      <td>4</td>\n",
       "      <td>2000</td>\n",
       "      <td>48000</td>\n",
       "      <td>2500</td>\n",
       "      <td>45500</td>\n",
       "      <td>80</td>\n",
       "      <td>1920</td>\n",
       "      <td>1700</td>\n",
       "    </tr>\n",
       "    <tr>\n",
       "      <td>4</td>\n",
       "      <td>5</td>\n",
       "      <td>2000</td>\n",
       "      <td>40000</td>\n",
       "      <td>2500</td>\n",
       "      <td>37500</td>\n",
       "      <td>400</td>\n",
       "      <td>1600</td>\n",
       "      <td>-6300</td>\n",
       "    </tr>\n",
       "  </tbody>\n",
       "</table>\n",
       "</div>"
      ],
      "text/plain": [
       "   Month  Contribution  Amount won by the bidder  \\\n",
       "0      1          2000                     40000   \n",
       "1      2          2000                     42000   \n",
       "2      3          2000                     45000   \n",
       "3      4          2000                     48000   \n",
       "4      5          2000                     40000   \n",
       "\n",
       "   Chit fund organizer commission  Net amount recd by Bid winner  \\\n",
       "0                            2500                          37500   \n",
       "1                            2500                          39500   \n",
       "2                            2500                          42500   \n",
       "3                            2500                          45500   \n",
       "4                            2500                          37500   \n",
       "\n",
       "   Amount returned to everyone in the group  Actual Contribution  return  \n",
       "0                                       400                 1600   -6300  \n",
       "1                                       320                 1680   -4300  \n",
       "2                                       200                 1800   -1300  \n",
       "3                                        80                 1920    1700  \n",
       "4                                       400                 1600   -6300  "
      ]
     },
     "execution_count": 35,
     "metadata": {},
     "output_type": "execute_result"
    }
   ],
   "source": [
    "data[\"return\"] = data[\"Net amount recd by Bid winner\"] - total\n",
    "data.head()"
   ]
  },
  {
   "cell_type": "markdown",
   "metadata": {
    "_uuid": "66cb8157f798e55f252b01176c64c61a6deeb109"
   },
   "source": [
    "### Calculating Return Percentage obtained by the Bid Winners for every month <br>\n",
    "### Return percentage = (Return / Total amount invested) X 100"
   ]
  },
  {
   "cell_type": "code",
   "execution_count": 36,
   "metadata": {
    "_uuid": "accf69a42d3978ce61294009db45f374ec0938a9"
   },
   "outputs": [
    {
     "data": {
      "text/html": [
       "<div>\n",
       "<style scoped>\n",
       "    .dataframe tbody tr th:only-of-type {\n",
       "        vertical-align: middle;\n",
       "    }\n",
       "\n",
       "    .dataframe tbody tr th {\n",
       "        vertical-align: top;\n",
       "    }\n",
       "\n",
       "    .dataframe thead th {\n",
       "        text-align: right;\n",
       "    }\n",
       "</style>\n",
       "<table border=\"1\" class=\"dataframe\">\n",
       "  <thead>\n",
       "    <tr style=\"text-align: right;\">\n",
       "      <th></th>\n",
       "      <th>Month</th>\n",
       "      <th>Contribution</th>\n",
       "      <th>Amount won by the bidder</th>\n",
       "      <th>Chit fund organizer commission</th>\n",
       "      <th>Net amount recd by Bid winner</th>\n",
       "      <th>Amount returned to everyone in the group</th>\n",
       "      <th>Actual Contribution</th>\n",
       "      <th>return</th>\n",
       "      <th>ret%</th>\n",
       "    </tr>\n",
       "  </thead>\n",
       "  <tbody>\n",
       "    <tr>\n",
       "      <td>0</td>\n",
       "      <td>1</td>\n",
       "      <td>2000</td>\n",
       "      <td>40000</td>\n",
       "      <td>2500</td>\n",
       "      <td>37500</td>\n",
       "      <td>400</td>\n",
       "      <td>1600</td>\n",
       "      <td>-6300</td>\n",
       "      <td>-14.383562</td>\n",
       "    </tr>\n",
       "    <tr>\n",
       "      <td>1</td>\n",
       "      <td>2</td>\n",
       "      <td>2000</td>\n",
       "      <td>42000</td>\n",
       "      <td>2500</td>\n",
       "      <td>39500</td>\n",
       "      <td>320</td>\n",
       "      <td>1680</td>\n",
       "      <td>-4300</td>\n",
       "      <td>-9.817352</td>\n",
       "    </tr>\n",
       "    <tr>\n",
       "      <td>2</td>\n",
       "      <td>3</td>\n",
       "      <td>2000</td>\n",
       "      <td>45000</td>\n",
       "      <td>2500</td>\n",
       "      <td>42500</td>\n",
       "      <td>200</td>\n",
       "      <td>1800</td>\n",
       "      <td>-1300</td>\n",
       "      <td>-2.968037</td>\n",
       "    </tr>\n",
       "    <tr>\n",
       "      <td>3</td>\n",
       "      <td>4</td>\n",
       "      <td>2000</td>\n",
       "      <td>48000</td>\n",
       "      <td>2500</td>\n",
       "      <td>45500</td>\n",
       "      <td>80</td>\n",
       "      <td>1920</td>\n",
       "      <td>1700</td>\n",
       "      <td>3.881279</td>\n",
       "    </tr>\n",
       "    <tr>\n",
       "      <td>4</td>\n",
       "      <td>5</td>\n",
       "      <td>2000</td>\n",
       "      <td>40000</td>\n",
       "      <td>2500</td>\n",
       "      <td>37500</td>\n",
       "      <td>400</td>\n",
       "      <td>1600</td>\n",
       "      <td>-6300</td>\n",
       "      <td>-14.383562</td>\n",
       "    </tr>\n",
       "  </tbody>\n",
       "</table>\n",
       "</div>"
      ],
      "text/plain": [
       "   Month  Contribution  Amount won by the bidder  \\\n",
       "0      1          2000                     40000   \n",
       "1      2          2000                     42000   \n",
       "2      3          2000                     45000   \n",
       "3      4          2000                     48000   \n",
       "4      5          2000                     40000   \n",
       "\n",
       "   Chit fund organizer commission  Net amount recd by Bid winner  \\\n",
       "0                            2500                          37500   \n",
       "1                            2500                          39500   \n",
       "2                            2500                          42500   \n",
       "3                            2500                          45500   \n",
       "4                            2500                          37500   \n",
       "\n",
       "   Amount returned to everyone in the group  Actual Contribution  return  \\\n",
       "0                                       400                 1600   -6300   \n",
       "1                                       320                 1680   -4300   \n",
       "2                                       200                 1800   -1300   \n",
       "3                                        80                 1920    1700   \n",
       "4                                       400                 1600   -6300   \n",
       "\n",
       "        ret%  \n",
       "0 -14.383562  \n",
       "1  -9.817352  \n",
       "2  -2.968037  \n",
       "3   3.881279  \n",
       "4 -14.383562  "
      ]
     },
     "execution_count": 36,
     "metadata": {},
     "output_type": "execute_result"
    }
   ],
   "source": [
    "data[\"ret%\"] = (data[\"return\"]/total)*100\n",
    "data.head()"
   ]
  },
  {
   "cell_type": "markdown",
   "metadata": {
    "_uuid": "d73bcb5a7c47e8c3451a37facdc89739fa6e8036"
   },
   "source": [
    "# Answers"
   ]
  },
  {
   "cell_type": "markdown",
   "metadata": {
    "_uuid": "f599b3604d1be9c055e85846fa476981e8216a33"
   },
   "source": [
    "## Q1. What is the Annualized  Return of the person who bids in the last month ? "
   ]
  },
  {
   "cell_type": "markdown",
   "metadata": {
    "_uuid": "2428f6a10facb35ca4afd7281cc52596dd35de5a"
   },
   "source": [
    "## Formula for Annualized Return which I was able to procure after reading on internet:"
   ]
  },
  {
   "cell_type": "code",
   "execution_count": 37,
   "metadata": {
    "_uuid": "c68ff221bcc46968b8467ad0bfa1770109abca1a"
   },
   "outputs": [
    {
     "data": {
      "text/plain": [
       "Month                                          25.000000\n",
       "Contribution                                 2000.000000\n",
       "Amount won by the bidder                    50000.000000\n",
       "Chit fund organizer commission               2500.000000\n",
       "Net amount recd by Bid winner               47500.000000\n",
       "Amount returned to everyone in the group        0.000000\n",
       "Actual Contribution                          2000.000000\n",
       "return                                       3700.000000\n",
       "ret%                                            8.447489\n",
       "Name: 24, dtype: float64"
      ]
     },
     "execution_count": 37,
     "metadata": {},
     "output_type": "execute_result"
    }
   ],
   "source": [
    "data.iloc[24]"
   ]
  },
  {
   "cell_type": "code",
   "execution_count": 38,
   "metadata": {
    "_uuid": "fbaa3d276c2a823e69ee3012d5f7aa054c38c5a3"
   },
   "outputs": [
    {
     "data": {
      "text/plain": [
       "3.969357358648673"
      ]
     },
     "execution_count": 38,
     "metadata": {},
     "output_type": "execute_result"
    }
   ],
   "source": [
    "((((1 + (data[\"ret%\"][24])/100)) ** (12/25)) - 1) * 100"
   ]
  },
  {
   "cell_type": "markdown",
   "metadata": {
    "_uuid": "a89fe410e1dd64e8328b5787105325df4c3cca38"
   },
   "source": [
    "## Annualized return of the person who bids in last month is: 3.97%"
   ]
  },
  {
   "cell_type": "markdown",
   "metadata": {
    "_uuid": "20bd01aa36259cc546b53c62cbd3e56a69778b1f"
   },
   "source": [
    "## Q2. What is the Annualized  Return of the person who bids in the first month ? "
   ]
  },
  {
   "cell_type": "code",
   "execution_count": 39,
   "metadata": {
    "_uuid": "eb5979c4aa7d1c8a4e5e1dcd73a492e41d2a1678"
   },
   "outputs": [
    {
     "data": {
      "text/plain": [
       "Month                                           1.000000\n",
       "Contribution                                 2000.000000\n",
       "Amount won by the bidder                    40000.000000\n",
       "Chit fund organizer commission               2500.000000\n",
       "Net amount recd by Bid winner               37500.000000\n",
       "Amount returned to everyone in the group      400.000000\n",
       "Actual Contribution                          1600.000000\n",
       "return                                      -6300.000000\n",
       "ret%                                          -14.383562\n",
       "Name: 0, dtype: float64"
      ]
     },
     "execution_count": 39,
     "metadata": {},
     "output_type": "execute_result"
    }
   ],
   "source": [
    "data.iloc[0]"
   ]
  },
  {
   "cell_type": "code",
   "execution_count": 40,
   "metadata": {
    "_uuid": "b22708ce97d2ac4dc195a31d69cd7f68ce507ded"
   },
   "outputs": [
    {
     "data": {
      "text/plain": [
       "-7.183019602665885"
      ]
     },
     "execution_count": 40,
     "metadata": {},
     "output_type": "execute_result"
    }
   ],
   "source": [
    "((((1 + (data[\"ret%\"][0])/100)) ** (12/25)) - 1) * 100"
   ]
  },
  {
   "cell_type": "markdown",
   "metadata": {
    "_uuid": "a00938ed58ce672448690b5c25a9af6e696fca7b"
   },
   "source": [
    "## Annualized return of the person who bids in first month is: -7.18%"
   ]
  },
  {
   "cell_type": "markdown",
   "metadata": {
    "_uuid": "7d39d51d511c5bf184573c392f3fb199f95e2077"
   },
   "source": [
    "## Q3. Write an Python script which calculates the annualized return of chit fund participant?      - Show the Return % for each month's bid winner.\n",
    "\n"
   ]
  },
  {
   "cell_type": "markdown",
   "metadata": {
    "_uuid": "64ea2a5e2b4a4d853c0ca57e0e81bbc37efe6b7f"
   },
   "source": [
    "## Return percentages of each month's bid winners."
   ]
  },
  {
   "cell_type": "code",
   "execution_count": 41,
   "metadata": {
    "_uuid": "39fed68514567ea168a0c7d9837278489829b897"
   },
   "outputs": [
    {
     "data": {
      "text/plain": [
       "0    -14.383562\n",
       "1     -9.817352\n",
       "2     -2.968037\n",
       "3      3.881279\n",
       "4    -14.383562\n",
       "5     -9.817352\n",
       "6     -7.534247\n",
       "7     -5.251142\n",
       "8    -14.383562\n",
       "9     -9.817352\n",
       "10    -2.968037\n",
       "11     3.881279\n",
       "12   -14.383562\n",
       "13    -9.817352\n",
       "14    -7.534247\n",
       "15    -7.534247\n",
       "16   -12.100457\n",
       "17    -9.817352\n",
       "18    -2.968037\n",
       "19    -2.968037\n",
       "20    -5.251142\n",
       "21    -0.684932\n",
       "22     1.598174\n",
       "23     3.881279\n",
       "24     8.447489\n",
       "Name: ret%, dtype: float64"
      ]
     },
     "execution_count": 41,
     "metadata": {},
     "output_type": "execute_result"
    }
   ],
   "source": [
    "data[\"ret%\"]"
   ]
  }
 ],
 "metadata": {
  "kernelspec": {
   "display_name": "Python 3",
   "language": "python",
   "name": "python3"
  },
  "language_info": {
   "codemirror_mode": {
    "name": "ipython",
    "version": 3
   },
   "file_extension": ".py",
   "mimetype": "text/x-python",
   "name": "python",
   "nbconvert_exporter": "python",
   "pygments_lexer": "ipython3",
   "version": "3.7.3"
  }
 },
 "nbformat": 4,
 "nbformat_minor": 1
}
